{
  "cells": [
    {
      "cell_type": "markdown",
      "metadata": {},
      "source": [
        "#      question 1\n"
      ]
    },
    {
      "cell_type": "code",
      "execution_count": 17,
      "metadata": {},
      "outputs": [
        {
          "name": "stdout",
          "output_type": "stream",
          "text": [
            "[[0], [1], [2], [3], [4], [5]]\n",
            "Combining [2] and [5] with distance between them 0.10198039027185574\n",
            "Clusters: [[0], [1], [2, 5], [3], [4]]\n",
            "Combining [1] and [2, 5] with distance between them 0.1431782106327635\n",
            "Clusters: [[0], [1, 2, 5], [3], [4]]\n",
            "Combining [1, 2, 5] and [4] with distance between them 0.14317821063276354\n",
            "Clusters: [[0], [1, 2, 5, 4], [3]]\n",
            "Combining [1, 2, 5, 4] and [3] with distance between them 0.194164878389476\n",
            "Clusters: [[0], [1, 2, 5, 4, 3]]\n",
            "Combining [0] and [1, 2, 5, 4, 3] with distance between them 0.23430749027719966\n",
            "Clusters: [[0, 1, 2, 5, 4, 3]]\n"
          ]
        }
      ],
      "source": [
        "import math\n",
        "\n",
        "data = [[0.40, 0.53], [0.22, 0.38], [0.35, 0.32],\n",
        "        [0.26, 0.19], [0.08, 0.41], [0.45, 0.30]]\n",
        "\n",
        "\n",
        "def find_clusters_single_agglomeragtive(data):\n",
        "    clusters = []\n",
        "    for i in range(len(data)):\n",
        "        clusters.append([i])\n",
        "    print(clusters)\n",
        "    while len(clusters) > 1:\n",
        "        min_dist = 100000\n",
        "        for i in range(len(clusters)):\n",
        "            for j in range(i+1, len(clusters)):\n",
        "                dist = 0\n",
        "                for k in range(len(data[0])):\n",
        "                    dist += (data[clusters[i][0]][k] -\n",
        "                             data[clusters[j][0]][k])**2\n",
        "                dist = math.sqrt(dist)\n",
        "                if dist < min_dist:\n",
        "                    min_dist = dist\n",
        "                    min_i = i\n",
        "                    min_j = j\n",
        "        print(\"Combining\", clusters[min_i], \"and\",\n",
        "              clusters[min_j], \"with distance between them\", min_dist)\n",
        "        clusters[min_i] += clusters[min_j]\n",
        "        clusters.pop(min_j)\n",
        "        print(\"Clusters:\", clusters)\n",
        "\n",
        "\n",
        "find_clusters_single_agglomeragtive(data)\n"
      ]
    },
    {
      "cell_type": "code",
      "execution_count": null,
      "metadata": {},
      "outputs": [],
      "source": []
    },
    {
      "cell_type": "code",
      "execution_count": null,
      "metadata": {},
      "outputs": [],
      "source": []
    },
    {
      "cell_type": "markdown",
      "metadata": {},
      "source": [
        "#  QUESTION 2"
      ]
    },
    {
      "cell_type": "code",
      "execution_count": 3,
      "metadata": {
        "colab": {
          "base_uri": "https://localhost:8080/",
          "height": 338
        },
        "id": "WgZFVPZDteFR",
        "outputId": "8c31bb19-ada7-43d5-b60c-119ce3f62c14"
      },
      "outputs": [
        {
          "data": {
            "text/html": [
              "<div>\n",
              "<style scoped>\n",
              "    .dataframe tbody tr th:only-of-type {\n",
              "        vertical-align: middle;\n",
              "    }\n",
              "\n",
              "    .dataframe tbody tr th {\n",
              "        vertical-align: top;\n",
              "    }\n",
              "\n",
              "    .dataframe thead th {\n",
              "        text-align: right;\n",
              "    }\n",
              "</style>\n",
              "<table border=\"1\" class=\"dataframe\">\n",
              "  <thead>\n",
              "    <tr style=\"text-align: right;\">\n",
              "      <th></th>\n",
              "      <th>No.</th>\n",
              "      <th>Color</th>\n",
              "      <th>Legs</th>\n",
              "      <th>Height</th>\n",
              "      <th>Smelly</th>\n",
              "      <th>Species</th>\n",
              "    </tr>\n",
              "  </thead>\n",
              "  <tbody>\n",
              "    <tr>\n",
              "      <th>0</th>\n",
              "      <td>1</td>\n",
              "      <td>White</td>\n",
              "      <td>3</td>\n",
              "      <td>Short</td>\n",
              "      <td>Yes</td>\n",
              "      <td>M</td>\n",
              "    </tr>\n",
              "    <tr>\n",
              "      <th>1</th>\n",
              "      <td>2</td>\n",
              "      <td>Green</td>\n",
              "      <td>2</td>\n",
              "      <td>Tall</td>\n",
              "      <td>No</td>\n",
              "      <td>M</td>\n",
              "    </tr>\n",
              "    <tr>\n",
              "      <th>2</th>\n",
              "      <td>3</td>\n",
              "      <td>Green</td>\n",
              "      <td>3</td>\n",
              "      <td>Short</td>\n",
              "      <td>Yes</td>\n",
              "      <td>M</td>\n",
              "    </tr>\n",
              "    <tr>\n",
              "      <th>3</th>\n",
              "      <td>4</td>\n",
              "      <td>White</td>\n",
              "      <td>3</td>\n",
              "      <td>Short</td>\n",
              "      <td>Yes</td>\n",
              "      <td>M</td>\n",
              "    </tr>\n",
              "    <tr>\n",
              "      <th>4</th>\n",
              "      <td>5</td>\n",
              "      <td>Green</td>\n",
              "      <td>2</td>\n",
              "      <td>Short</td>\n",
              "      <td>No</td>\n",
              "      <td>H</td>\n",
              "    </tr>\n",
              "    <tr>\n",
              "      <th>5</th>\n",
              "      <td>6</td>\n",
              "      <td>White</td>\n",
              "      <td>2</td>\n",
              "      <td>Tall</td>\n",
              "      <td>No</td>\n",
              "      <td>H</td>\n",
              "    </tr>\n",
              "    <tr>\n",
              "      <th>6</th>\n",
              "      <td>7</td>\n",
              "      <td>White</td>\n",
              "      <td>2</td>\n",
              "      <td>Tall</td>\n",
              "      <td>No</td>\n",
              "      <td>H</td>\n",
              "    </tr>\n",
              "    <tr>\n",
              "      <th>7</th>\n",
              "      <td>8</td>\n",
              "      <td>White</td>\n",
              "      <td>2</td>\n",
              "      <td>Short</td>\n",
              "      <td>Yes</td>\n",
              "      <td>H</td>\n",
              "    </tr>\n",
              "  </tbody>\n",
              "</table>\n",
              "</div>"
            ],
            "text/plain": [
              "   No.  Color  Legs Height Smelly Species\n",
              "0    1  White     3  Short    Yes       M\n",
              "1    2  Green     2   Tall     No       M\n",
              "2    3  Green     3  Short    Yes       M\n",
              "3    4  White     3  Short    Yes       M\n",
              "4    5  Green     2  Short     No       H\n",
              "5    6  White     2   Tall     No       H\n",
              "6    7  White     2   Tall     No       H\n",
              "7    8  White     2  Short    Yes       H"
            ]
          },
          "execution_count": 3,
          "metadata": {},
          "output_type": "execute_result"
        }
      ],
      "source": [
        "import pandas as pd\n",
        "\n",
        "df = pd.read_csv('C:/Users/Manoj Kumar/OneDrive/Desktop/VS Code/python/Assignments/Assignment9/Data.csv')\n",
        "df"
      ]
    },
    {
      "cell_type": "code",
      "execution_count": 7,
      "metadata": {
        "colab": {
          "base_uri": "https://localhost:8080/"
        },
        "id": "ob9XjWsvtgEI",
        "outputId": "b9e7c2e8-c414-4572-ae70-fb0f52ec399c"
      },
      "outputs": [
        {
          "name": "stdout",
          "output_type": "stream",
          "text": [
            "Enter the  New Instance \n",
            "\n",
            "Green\n",
            "3\n",
            "Tall\n",
            "No\n"
          ]
        }
      ],
      "source": [
        "print(\"Enter the  New Instance \\n\")\n",
        "height=input(\"enter the height: \")\n",
        "smell=input(\"enter the smell: \")\n",
        "color=input(\"enter the color: \")\n",
        "leg=int(input(\"entere the no. of legs: \"))\n",
        "prbm=0\n",
        "# color = input(\"color: \")\n",
        "# leg = int(input(\"no. of legs: \"))\n",
        "prbh=0\n",
        "print( color )\n",
        "print( leg )\n",
        "print( height )\n",
        "print( smell)\n"
      ]
    },
    {
      "cell_type": "code",
      "execution_count": 9,
      "metadata": {
        "id": "IK1PAXLL8-Rg"
      },
      "outputs": [
        {
          "name": "stdout",
          "output_type": "stream",
          "text": [
            "the count of species M is  4\n",
            "the count of species H is  4\n"
          ]
        }
      ],
      "source": [
        "hh=0\n",
        "mm=0\n",
        "for item in df.Species:\n",
        "  if item == \"H\":\n",
        "    hh=hh+1\n",
        "  else :\n",
        "    mm=mm+1\n",
        "\n",
        "print(\"the count of species M is \",mm)\n",
        "print(\"the count of species H is \",hh)"
      ]
    },
    {
      "cell_type": "code",
      "execution_count": 10,
      "metadata": {
        "colab": {
          "base_uri": "https://localhost:8080/"
        },
        "id": "IWWgdl3q2A8p",
        "outputId": "77b92495-2c0a-4f52-ce9f-f2782c0c03d7"
      },
      "outputs": [],
      "source": [
        "\n",
        "pq = 0\n",
        "rs = 0\n",
        "for item in df.Color:\n",
        "  if item == \"White\":\n",
        "    pq = pq+1\n",
        "  else:\n",
        "    rs = rs+1\n",
        "if smell == \"Yes\":\n",
        "  prbh = prbh+pq/(hh)\n",
        "  prbm = prbm+pq/mm\n",
        "else:\n",
        "  prbh = prbh+rs/(hh)\n",
        "  prbm = prbm+rs/mm\n"
      ]
    },
    {
      "cell_type": "code",
      "execution_count": 11,
      "metadata": {
        "colab": {
          "base_uri": "https://localhost:8080/"
        },
        "id": "iIyC4fAywgo6",
        "outputId": "cbe2dd14-3c26-4027-fe3b-6690e14a32f7"
      },
      "outputs": [],
      "source": [
        "x = 0\n",
        "y = 0\n",
        "for item in df.Color:\n",
        "  if item == \"White\":\n",
        "    x = x+1\n",
        "  else:\n",
        "    y = y+1\n",
        "if leg==3:\n",
        "  prbh = prbh+x/(hh)\n",
        "  prbm = prbm+x/mm\n",
        "else:\n",
        "  prbh = prbh+y/(hh)\n",
        "  prbm = prbm+y/mm\n"
      ]
    },
    {
      "cell_type": "code",
      "execution_count": 13,
      "metadata": {
        "colab": {
          "base_uri": "https://localhost:8080/"
        },
        "id": "tyJXh8a0wkGS",
        "outputId": "806f4299-8daf-48f7-d1ef-63182b4299fc"
      },
      "outputs": [],
      "source": [
        "w = 0\n",
        "g = 0\n",
        "for item in df.Color:\n",
        "  if item == \"White\":\n",
        "    w = w+1\n",
        "  else:\n",
        "    g = g+1\n",
        "if height == \"Short\":\n",
        "  prbh = prbh+w/(hh)\n",
        "  prbm = prbm+w/mm\n",
        "else:\n",
        "  prbh = prbh+g/(hh)\n",
        "  prbm = prbm+g/mm\n"
      ]
    },
    {
      "cell_type": "code",
      "execution_count": 15,
      "metadata": {
        "colab": {
          "base_uri": "https://localhost:8080/"
        },
        "id": "F3dtkSxD9_N6",
        "outputId": "959073de-0371-4723-e71b-f4d1881c0580"
      },
      "outputs": [],
      "source": [
        "w = 0\n",
        "y = 0\n",
        "for item in df.Color:\n",
        "  if item == \"White\":\n",
        "    x = x+1\n",
        "  else:\n",
        "    y = y+1\n",
        "if color == \"White\":\n",
        "  prbh = prbh+x/(hh)\n",
        "  prbm = prbm+x/mm\n",
        "else:\n",
        "  prbh = prbh+y/(hh)\n",
        "  prbm = prbm+y/mm\n"
      ]
    },
    {
      "cell_type": "code",
      "execution_count": 16,
      "metadata": {
        "colab": {
          "base_uri": "https://localhost:8080/"
        },
        "id": "OySnrijrN2Mz",
        "outputId": "c77919fa-9ebe-4faa-f81a-d4c4e9224ef3"
      },
      "outputs": [
        {
          "name": "stdout",
          "output_type": "stream",
          "text": [
            "OUTCOMES :Species is  M\n"
          ]
        }
      ],
      "source": [
        "if prbh>prbm:\n",
        "  print(\"OUTCOMES :Species is H\")\n",
        "else:\n",
        "  print(\"OUTCOMES :Species is  M\")"
      ]
    },
    {
      "cell_type": "code",
      "execution_count": 15,
      "metadata": {
        "id": "4AA32K5XN42B"
      },
      "outputs": [],
      "source": [
        "import math\n",
        "\n",
        "data=[[0.40,0.53],[0.22,0.38],[0.35,0.32],[0.26,0.19],[0.08,0.41],[0.45,0.30]]\n",
        "\n",
        "def find_clusters_single_agglomeragtive(data):\n",
        "    clusters = []\n",
        "    for i in range(len(data)):\n",
        "        clusters.append([i])\n",
        "    print(clusters)\n",
        "    while len(clusters) > 1:\n",
        "        min_dist = 100000\n",
        "        for i in range(len(clusters)):\n",
        "            for j in range(i+1, len(clusters)):\n",
        "                dist = 0\n",
        "                for k in range(len(data[0])):\n",
        "                    dist += (data[clusters[i][0]][k] - data[clusters[j][0]][k])**2  \n",
        "                dist = math.sqrt(dist)\n",
        "                if dist < min_dist:\n",
        "                    min_dist = dist\n",
        "                    min_i = i\n",
        "                    min_j = j\n",
        "        print(\"Combining\", clusters[min_i], \"and\", clusters[min_j], \"with distance between them\", min_dist)\n",
        "        clusters[min_i] += clusters[min_j]\n",
        "        clusters.pop(min_j)\n",
        "        print(\"Clusters:\", clusters)\n",
        "find_clusters_single_agglomeragtive(data)"
      ]
    },
    {
      "cell_type": "code",
      "execution_count": null,
      "metadata": {
        "id": "_LWFi66aOJJT"
      },
      "outputs": [],
      "source": []
    },
    {
      "cell_type": "code",
      "execution_count": null,
      "metadata": {
        "colab": {
          "base_uri": "https://localhost:8080/"
        },
        "id": "nyUvARQ6RRJA",
        "outputId": "ebc7d442-2e11-4831-bcbc-dca9409d2b7d"
      },
      "outputs": [],
      "source": []
    }
  ],
  "metadata": {
    "colab": {
      "provenance": []
    },
    "kernelspec": {
      "display_name": "Python 3.10.7 64-bit",
      "language": "python",
      "name": "python3"
    },
    "language_info": {
      "codemirror_mode": {
        "name": "ipython",
        "version": 3
      },
      "file_extension": ".py",
      "mimetype": "text/x-python",
      "name": "python",
      "nbconvert_exporter": "python",
      "pygments_lexer": "ipython3",
      "version": "3.10.7"
    },
    "vscode": {
      "interpreter": {
        "hash": "14f8378fd70169d005f64ef37a4a93fb5aff0c5e69fdc254fae5fd7cbd5134fb"
      }
    }
  },
  "nbformat": 4,
  "nbformat_minor": 0
}
