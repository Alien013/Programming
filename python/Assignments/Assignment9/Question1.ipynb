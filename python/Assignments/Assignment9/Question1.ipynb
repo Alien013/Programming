{
 "cells": [],
 "metadata": {
  "kernelspec": {
   "display_name": "Python 3.10.7 64-bit",
   "language": "python",
   "name": "python3"
  },
  "language_info": {
   "codemirror_mode": {
    "name": "ipython",
    "version": 3
   },
   "file_extension": ".py",
   "mimetype": "text/x-python",
   "name": "python",
   "nbconvert_exporter": "python",
   "pygments_lexer": "ipython3",
   "version": "3.10.7"
  },
  "orig_nbformat": 4,
  "vscode": {
   "interpreter": {
    "hash": "14f8378fd70169d005f64ef37a4a93fb5aff0c5e69fdc254fae5fd7cbd5134fb"
   }
  }
 },
 "nbformat": 4,
 "nbformat_minor": 2
}
