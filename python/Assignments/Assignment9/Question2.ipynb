{
 "cells": [
  {
   "cell_type": "code",
   "execution_count": 3,
   "metadata": {},
   "outputs": [
    {
     "name": "stdout",
     "output_type": "stream",
     "text": [
      "   No.  Color  Legs Height Smelly Species\n",
      "0    1  White     3  Short    Yes       M\n",
      "1    2  Green     2   Tall     No       M\n",
      "2    3  Green     3  Short    Yes       M\n",
      "3    4  White     3  Short    Yes       M\n",
      "4    5  Green     2  Short     No       H\n",
      "5    6  White     2   Tall     No       H\n",
      "6    7  White     2   Tall     No       H\n",
      "7    8  White     2  Short    Yes       H\n",
      "(8, 6)\n",
      "<class 'pandas.core.frame.DataFrame'>\n",
      "RangeIndex: 8 entries, 0 to 7\n",
      "Data columns (total 6 columns):\n",
      " #   Column   Non-Null Count  Dtype \n",
      "---  ------   --------------  ----- \n",
      " 0   No.      8 non-null      int64 \n",
      " 1   Color    8 non-null      object\n",
      " 2   Legs     8 non-null      int64 \n",
      " 3   Height   8 non-null      object\n",
      " 4   Smelly   8 non-null      object\n",
      " 5   Species  8 non-null      object\n",
      "dtypes: int64(2), object(4)\n",
      "memory usage: 512.0+ bytes\n",
      "None\n"
     ]
    }
   ],
   "source": [
    "import pandas as pd\n",
    "df = pd.read_csv('C:/Users/Manoj Kumar/OneDrive/Desktop/VS Code/python/Assignments/Assignment9/Data.csv')\n",
    "print(df)\n",
    "\n",
    "print(df.shape)\n",
    "\n",
    "print(df.info()) \n"
   ]
  },
  {
   "cell_type": "code",
   "execution_count": null,
   "metadata": {},
   "outputs": [],
   "source": [
    "import pandas as pd\n",
    "df = pd.read_csv(\n",
    "    'C:/Users/Manoj Kumar/OneDrive/Desktop/VS Code/python/Assignments/Assignment9/Data.csv')\n",
    "df\n",
    "\n",
    "\n",
    "print(\"Enter the  New Instance \\n\")\n",
    "c = input(\"color: \")\n",
    "l = int(input(\"no. of legs: \"))\n",
    "h = input(\"height: \")\n",
    "s = input(\"smell: \")\n",
    "f = 0\n",
    "cc = \"abs\"\n",
    "df.rename(columns={'No.': 'No'}, inplace=True)\n",
    "for ind in (df.No-1):\n",
    "  if (df['Color'][ind] == c and df['Legs'][ind] == l and df['Height'][ind] == h and df['Species'][ind] == s):\n",
    "    f = 1\n",
    "    cc = df['Species'][ind]\n",
    "if f == 1:\n",
    "  print(cc)\n",
    "else:\n",
    "  print(\"Not present\")\n"
   ]
  }
 ],
 "metadata": {
  "kernelspec": {
   "display_name": "Python 3.10.7 64-bit",
   "language": "python",
   "name": "python3"
  },
  "language_info": {
   "codemirror_mode": {
    "name": "ipython",
    "version": 3
   },
   "file_extension": ".py",
   "mimetype": "text/x-python",
   "name": "python",
   "nbconvert_exporter": "python",
   "pygments_lexer": "ipython3",
   "version": "3.10.7"
  },
  "orig_nbformat": 4,
  "vscode": {
   "interpreter": {
    "hash": "14f8378fd70169d005f64ef37a4a93fb5aff0c5e69fdc254fae5fd7cbd5134fb"
   }
  }
 },
 "nbformat": 4,
 "nbformat_minor": 2
}
